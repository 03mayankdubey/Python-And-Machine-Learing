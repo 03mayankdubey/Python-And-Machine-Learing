{
  "nbformat": 4,
  "nbformat_minor": 0,
  "metadata": {
    "colab": {
      "name": "movie_recommendations.ipynb",
      "provenance": [],
      "mount_file_id": "1x1FiHYYsNo6s6b1FDU0nzFaW7--gw5ez",
      "authorship_tag": "ABX9TyMXiNokX3NPVtxNT4kUhJ1Y",
      "include_colab_link": true
    },
    "kernelspec": {
      "name": "python3",
      "display_name": "Python 3"
    }
  },
  "cells": [
    {
      "cell_type": "markdown",
      "metadata": {
        "id": "view-in-github",
        "colab_type": "text"
      },
      "source": [
        "<a href=\"https://colab.research.google.com/github/03mayankdubey/Python-And-Machine-Learing/blob/main/movie_recommendations.ipynb\" target=\"_parent\"><img src=\"https://colab.research.google.com/assets/colab-badge.svg\" alt=\"Open In Colab\"/></a>"
      ]
    },
    {
      "cell_type": "code",
      "metadata": {
        "id": "lcHnVLBB-mRJ"
      },
      "source": [
        "from sklearn.feature_extraction.text import CountVectorizer\n",
        "import pandas as pd\n",
        "import numpy as np\n",
        "from sklearn.metrics.pairwise import cosine_similarity"
      ],
      "execution_count": 1,
      "outputs": []
    },
    {
      "cell_type": "code",
      "metadata": {
        "id": "XyJoYXqf-yeY",
        "colab": {
          "base_uri": "https://localhost:8080/"
        },
        "outputId": "3c2cf38d-89c5-49b9-e7a3-4a00863907c6"
      },
      "source": [
        "text = [\"london paris paris\", \"paris london london\"]\n",
        "cv = CountVectorizer()\n",
        "count_matrix = cv.fit_transform(text)\n",
        "print(count_matrix.toarray())"
      ],
      "execution_count": 2,
      "outputs": [
        {
          "output_type": "stream",
          "name": "stdout",
          "text": [
            "[[1 2]\n",
            " [2 1]]\n"
          ]
        }
      ]
    },
    {
      "cell_type": "code",
      "metadata": {
        "id": "colAcdOt-3HG"
      },
      "source": [
        "similarity_score = cosine_similarity(count_matrix)"
      ],
      "execution_count": 3,
      "outputs": []
    },
    {
      "cell_type": "code",
      "metadata": {
        "id": "XoWvTe9m_bO0",
        "colab": {
          "base_uri": "https://localhost:8080/"
        },
        "outputId": "cde158da-2107-4c18-f574-040edcc1513d"
      },
      "source": [
        "similarity_score"
      ],
      "execution_count": 4,
      "outputs": [
        {
          "output_type": "execute_result",
          "data": {
            "text/plain": [
              "array([[1. , 0.8],\n",
              "       [0.8, 1. ]])"
            ]
          },
          "metadata": {},
          "execution_count": 4
        }
      ]
    },
    {
      "cell_type": "code",
      "source": [
        "df = pd.read_csv(\"/content/drive/MyDrive/Datasets/movie_dataset.csv\")"
      ],
      "metadata": {
        "id": "truJZmusSS5c"
      },
      "execution_count": 5,
      "outputs": []
    },
    {
      "cell_type": "code",
      "metadata": {
        "id": "1m4yJWFTJeZ3"
      },
      "source": [
        "def get_title_from_index(index):\n",
        "  return df[df.index == index][\"title\"].values[0]\n",
        "def get_index_from_title(title):\n",
        "  return df[df.title == title][\"index\"].values[0]"
      ],
      "execution_count": 6,
      "outputs": []
    },
    {
      "cell_type": "code",
      "metadata": {
        "id": "ny8SQ9vrBV6G",
        "colab": {
          "base_uri": "https://localhost:8080/"
        },
        "outputId": "a5cc2e36-8aeb-4c25-b586-a30ce7aefe06"
      },
      "source": [
        "features = [\"keywords\", \"cast\", \"genres\", \"director\"]\n",
        "for feature in features:\n",
        "  df[feature] = df[feature].fillna(\"\")\n",
        "def combine_features(row):\n",
        "    try:\n",
        "        return row[\"keywords\"]+ \" \"+row[\"cast\"]+\" \"+row[\"genres\"]+\" \"+row[\"director\"]\n",
        "    except:\n",
        "        print(\"Error\", row)  \n",
        "df.combined_features = df.apply(combine_features, axis = 1)"
      ],
      "execution_count": 7,
      "outputs": [
        {
          "output_type": "stream",
          "name": "stderr",
          "text": [
            "/usr/local/lib/python3.7/dist-packages/ipykernel_launcher.py:9: UserWarning: Pandas doesn't allow columns to be created via a new attribute name - see https://pandas.pydata.org/pandas-docs/stable/indexing.html#attribute-access\n",
            "  if __name__ == '__main__':\n"
          ]
        }
      ]
    },
    {
      "cell_type": "code",
      "metadata": {
        "id": "1z4Up2J5BX6-"
      },
      "source": [
        "cv = CountVectorizer()\n",
        "count_matrix = cv.fit_transform(df.combined_features)"
      ],
      "execution_count": 8,
      "outputs": []
    },
    {
      "cell_type": "code",
      "metadata": {
        "id": "X59kJvS2Eg-a"
      },
      "source": [
        "cos_sim = cosine_similarity(count_matrix)"
      ],
      "execution_count": 9,
      "outputs": []
    },
    {
      "cell_type": "code",
      "metadata": {
        "id": "STj12tb4IoZU",
        "colab": {
          "base_uri": "https://localhost:8080/"
        },
        "outputId": "8c30e630-bfff-4c0b-de3b-0f3e50589e52"
      },
      "source": [
        "movie_user_likes = input(\"Enter movie you like\")\n",
        "movie_index = get_index_from_title(movie_user_likes)\n",
        "similar_movies = list(enumerate((cos_sim[movie_index])))\n",
        "sorted_similar_movies = sorted(similar_movies, key = lambda x:x[1], reverse=True)\n",
        "c = 0\n",
        "for movie in sorted_similar_movies:\n",
        "  print(get_title_from_index(movie[0]))\n",
        "  c = c + 1\n",
        "  if (c > 10):\n",
        "    break"
      ],
      "execution_count": 13,
      "outputs": [
        {
          "output_type": "stream",
          "name": "stdout",
          "text": [
            "Enter movie you likeAvatar\n",
            "Avatar\n",
            "Guardians of the Galaxy\n",
            "Aliens\n",
            "Star Wars: Clone Wars: Volume 1\n",
            "Star Trek Into Darkness\n",
            "Star Trek Beyond\n",
            "Alien\n",
            "Lockout\n",
            "Jason X\n",
            "The Helix... Loaded\n",
            "Moonraker\n"
          ]
        }
      ]
    },
    {
      "cell_type": "code",
      "metadata": {
        "id": "OLkgweNcLusW"
      },
      "source": [
        ""
      ],
      "execution_count": null,
      "outputs": []
    },
    {
      "cell_type": "code",
      "metadata": {
        "id": "Knw9v9abMhG9"
      },
      "source": [
        ""
      ],
      "execution_count": null,
      "outputs": []
    }
  ]
}